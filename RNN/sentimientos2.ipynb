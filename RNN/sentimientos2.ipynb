{
  "metadata": {
    "kernelspec": {
      "language": "python",
      "display_name": "Python 3",
      "name": "python3"
    },
    "language_info": {
      "pygments_lexer": "ipython3",
      "nbconvert_exporter": "python",
      "version": "3.6.4",
      "file_extension": ".py",
      "codemirror_mode": {
        "name": "ipython",
        "version": 3
      },
      "name": "python",
      "mimetype": "text/x-python"
    },
    "colab": {
      "name": "sentimientos2.ipynb",
      "provenance": []
    },
    "accelerator": "GPU"
  },
  "nbformat_minor": 0,
  "nbformat": 4,
  "cells": [
    {
      "cell_type": "markdown",
      "source": [
        "# Librerias"
      ],
      "metadata": {
        "id": "NCfN_akmFrj3"
      }
    },
    {
      "cell_type": "code",
      "source": [
        "from google.colab import drive\n",
        "drive.mount('/content/drive')"
      ],
      "metadata": {
        "colab": {
          "base_uri": "https://localhost:8080/"
        },
        "id": "4QCprDjLvomO",
        "outputId": "b4224ff0-e6a1-431e-8bc3-8113764d1fed"
      },
      "execution_count": 4,
      "outputs": [
        {
          "output_type": "stream",
          "name": "stdout",
          "text": [
            "Drive already mounted at /content/drive; to attempt to forcibly remount, call drive.mount(\"/content/drive\", force_remount=True).\n"
          ]
        }
      ]
    },
    {
      "cell_type": "code",
      "source": [
        "# DataFrame\n",
        "import pandas as pd \n",
        "\n",
        "# plotting\n",
        "import seaborn as sns\n",
        "from wordcloud import WordCloud\n",
        "import matplotlib.pyplot as plt\n",
        "\n",
        "# nltk\n",
        "import nltk\n",
        "from nltk.stem import WordNetLemmatizer\n",
        "from nltk.corpus import stopwords\n",
        "from nltk.tokenize import word_tokenize\n",
        "\n",
        "# sklearn\n",
        "from sklearn.model_selection import train_test_split\n",
        "from sklearn.feature_extraction.text import TfidfVectorizer\n",
        "from sklearn.metrics import confusion_matrix, classification_report\n",
        "\n",
        "from sklearn.linear_model import LogisticRegression\n",
        "from sklearn.svm import LinearSVC\n",
        "from sklearn.ensemble import RandomForestClassifier\n",
        "from sklearn.naive_bayes import BernoulliNB\n",
        "\n",
        "\n",
        "#tensorflow\n",
        "import tensorflow.compat.v2 as tf\n",
        "import tensorflow_datasets as tfds\n",
        "\n",
        "# Utility\n",
        "import pandas as pd\n",
        "import numpy as np \n",
        "import warnings\n",
        "warnings.filterwarnings('ignore')\n",
        "import re\n",
        "import string\n",
        "import pickle\n",
        "print(\"Librerias Importadas\")"
      ],
      "metadata": {
        "id": "pVYNu9wMdkko",
        "execution": {
          "iopub.status.busy": "2022-01-29T15:31:48.277059Z",
          "iopub.execute_input": "2022-01-29T15:31:48.27743Z",
          "iopub.status.idle": "2022-01-29T15:31:54.752756Z",
          "shell.execute_reply.started": "2022-01-29T15:31:48.277345Z",
          "shell.execute_reply": "2022-01-29T15:31:54.751956Z"
        },
        "trusted": true,
        "colab": {
          "base_uri": "https://localhost:8080/"
        },
        "outputId": "2b7c015f-54eb-4854-ddf1-60c4c9ad0c5f"
      },
      "execution_count": 5,
      "outputs": [
        {
          "output_type": "stream",
          "name": "stdout",
          "text": [
            "Librerias Importadas\n"
          ]
        }
      ]
    },
    {
      "cell_type": "markdown",
      "source": [
        "# Carga de Dataset"
      ],
      "metadata": {
        "id": "R7jmsaF2dkkq"
      }
    },
    {
      "cell_type": "code",
      "source": [
        "# Construct a tf.data.Dataset\n",
        "data = pd.read_csv('/content/drive/MyDrive/dataset/training.csv',encoding='latin', names = ['polarity','id','date','query','user','text'])"
      ],
      "metadata": {
        "id": "hycEYqiDlC8p",
        "execution": {
          "iopub.status.busy": "2022-01-29T15:31:58.838623Z",
          "iopub.execute_input": "2022-01-29T15:31:58.838968Z",
          "iopub.status.idle": "2022-01-29T15:32:05.351966Z",
          "shell.execute_reply.started": "2022-01-29T15:31:58.838935Z",
          "shell.execute_reply": "2022-01-29T15:32:05.351136Z"
        },
        "trusted": true
      },
      "execution_count": 6,
      "outputs": []
    },
    {
      "cell_type": "code",
      "source": [
        "data = data.sample(frac=1)\n",
        "data = data[:200000]"
      ],
      "metadata": {
        "id": "Uu3dZ9eeBZOU",
        "execution": {
          "iopub.status.busy": "2022-01-29T15:32:22.495606Z",
          "iopub.execute_input": "2022-01-29T15:32:22.495984Z",
          "iopub.status.idle": "2022-01-29T15:32:23.733234Z",
          "shell.execute_reply.started": "2022-01-29T15:32:22.495954Z",
          "shell.execute_reply": "2022-01-29T15:32:23.732422Z"
        },
        "trusted": true
      },
      "execution_count": 7,
      "outputs": []
    },
    {
      "cell_type": "markdown",
      "source": [
        "# DataSet"
      ],
      "metadata": {
        "id": "8NMuY7JBwmmy"
      }
    },
    {
      "cell_type": "code",
      "source": [
        "print(\"Dataset shape:\", data.shape)\n",
        "data.head(10)"
      ],
      "metadata": {
        "id": "f1lt303exS3J",
        "outputId": "1430a1a5-cbf4-4aba-f943-f52a4c65bc3f",
        "execution": {
          "iopub.status.busy": "2022-01-29T15:32:25.634744Z",
          "iopub.execute_input": "2022-01-29T15:32:25.635078Z",
          "iopub.status.idle": "2022-01-29T15:32:25.659675Z",
          "shell.execute_reply.started": "2022-01-29T15:32:25.635046Z",
          "shell.execute_reply": "2022-01-29T15:32:25.658778Z"
        },
        "trusted": true,
        "colab": {
          "base_uri": "https://localhost:8080/",
          "height": 382
        }
      },
      "execution_count": 8,
      "outputs": [
        {
          "output_type": "stream",
          "name": "stdout",
          "text": [
            "Dataset shape: (200000, 6)\n"
          ]
        },
        {
          "output_type": "execute_result",
          "data": {
            "text/html": [
              "\n",
              "  <div id=\"df-4a23cc8a-43ae-40d1-977b-d294b4a50f72\">\n",
              "    <div class=\"colab-df-container\">\n",
              "      <div>\n",
              "<style scoped>\n",
              "    .dataframe tbody tr th:only-of-type {\n",
              "        vertical-align: middle;\n",
              "    }\n",
              "\n",
              "    .dataframe tbody tr th {\n",
              "        vertical-align: top;\n",
              "    }\n",
              "\n",
              "    .dataframe thead th {\n",
              "        text-align: right;\n",
              "    }\n",
              "</style>\n",
              "<table border=\"1\" class=\"dataframe\">\n",
              "  <thead>\n",
              "    <tr style=\"text-align: right;\">\n",
              "      <th></th>\n",
              "      <th>polarity</th>\n",
              "      <th>id</th>\n",
              "      <th>date</th>\n",
              "      <th>query</th>\n",
              "      <th>user</th>\n",
              "      <th>text</th>\n",
              "    </tr>\n",
              "  </thead>\n",
              "  <tbody>\n",
              "    <tr>\n",
              "      <th>394862</th>\n",
              "      <td>0</td>\n",
              "      <td>2055733352</td>\n",
              "      <td>Sat Jun 06 09:51:25 PDT 2009</td>\n",
              "      <td>NO_QUERY</td>\n",
              "      <td>majc25</td>\n",
              "      <td>Im sick with a darn fever. I feel horrible</td>\n",
              "    </tr>\n",
              "    <tr>\n",
              "      <th>320915</th>\n",
              "      <td>0</td>\n",
              "      <td>2003563390</td>\n",
              "      <td>Tue Jun 02 06:45:36 PDT 2009</td>\n",
              "      <td>NO_QUERY</td>\n",
              "      <td>yvonne_sharp</td>\n",
              "      <td>cant keep up with tweets they come up to quick</td>\n",
              "    </tr>\n",
              "    <tr>\n",
              "      <th>601012</th>\n",
              "      <td>0</td>\n",
              "      <td>2221044294</td>\n",
              "      <td>Thu Jun 18 04:34:33 PDT 2009</td>\n",
              "      <td>NO_QUERY</td>\n",
              "      <td>YK12</td>\n",
              "      <td>damm weather</td>\n",
              "    </tr>\n",
              "    <tr>\n",
              "      <th>778522</th>\n",
              "      <td>0</td>\n",
              "      <td>2322703253</td>\n",
              "      <td>Wed Jun 24 23:06:21 PDT 2009</td>\n",
              "      <td>NO_QUERY</td>\n",
              "      <td>guilty_</td>\n",
              "      <td>@Malechite oops sorry if i sounded like drowne...</td>\n",
              "    </tr>\n",
              "    <tr>\n",
              "      <th>270008</th>\n",
              "      <td>0</td>\n",
              "      <td>1989736861</td>\n",
              "      <td>Mon Jun 01 02:37:45 PDT 2009</td>\n",
              "      <td>NO_QUERY</td>\n",
              "      <td>heroinex</td>\n",
              "      <td>@begthehobo LOL, yeah, the intuos is... the ba...</td>\n",
              "    </tr>\n",
              "    <tr>\n",
              "      <th>1184345</th>\n",
              "      <td>4</td>\n",
              "      <td>1982582668</td>\n",
              "      <td>Sun May 31 11:29:57 PDT 2009</td>\n",
              "      <td>NO_QUERY</td>\n",
              "      <td>andreawarner</td>\n",
              "      <td>@ParkerMama I don't know you yet, but I'm hopi...</td>\n",
              "    </tr>\n",
              "    <tr>\n",
              "      <th>276195</th>\n",
              "      <td>0</td>\n",
              "      <td>1990978218</td>\n",
              "      <td>Mon Jun 01 06:09:22 PDT 2009</td>\n",
              "      <td>NO_QUERY</td>\n",
              "      <td>Ganu88</td>\n",
              "      <td>This is weird. There's a site called TWEEPLE.I...</td>\n",
              "    </tr>\n",
              "    <tr>\n",
              "      <th>927213</th>\n",
              "      <td>4</td>\n",
              "      <td>1759090159</td>\n",
              "      <td>Sun May 10 18:26:20 PDT 2009</td>\n",
              "      <td>NO_QUERY</td>\n",
              "      <td>dj_melza</td>\n",
              "      <td>@shaundiviney i know aye, isn't it AMAZING. @s...</td>\n",
              "    </tr>\n",
              "    <tr>\n",
              "      <th>1387617</th>\n",
              "      <td>4</td>\n",
              "      <td>2052947891</td>\n",
              "      <td>Sat Jun 06 02:39:47 PDT 2009</td>\n",
              "      <td>NO_QUERY</td>\n",
              "      <td>Al_ice</td>\n",
              "      <td>@DazMSmith hee hee! Nice to appreciate it!</td>\n",
              "    </tr>\n",
              "    <tr>\n",
              "      <th>818741</th>\n",
              "      <td>4</td>\n",
              "      <td>1553177902</td>\n",
              "      <td>Sat Apr 18 13:34:34 PDT 2009</td>\n",
              "      <td>NO_QUERY</td>\n",
              "      <td>Khristofferson</td>\n",
              "      <td>@pinkmango77 It is cool, indeed. If you'll exc...</td>\n",
              "    </tr>\n",
              "  </tbody>\n",
              "</table>\n",
              "</div>\n",
              "      <button class=\"colab-df-convert\" onclick=\"convertToInteractive('df-4a23cc8a-43ae-40d1-977b-d294b4a50f72')\"\n",
              "              title=\"Convert this dataframe to an interactive table.\"\n",
              "              style=\"display:none;\">\n",
              "        \n",
              "  <svg xmlns=\"http://www.w3.org/2000/svg\" height=\"24px\"viewBox=\"0 0 24 24\"\n",
              "       width=\"24px\">\n",
              "    <path d=\"M0 0h24v24H0V0z\" fill=\"none\"/>\n",
              "    <path d=\"M18.56 5.44l.94 2.06.94-2.06 2.06-.94-2.06-.94-.94-2.06-.94 2.06-2.06.94zm-11 1L8.5 8.5l.94-2.06 2.06-.94-2.06-.94L8.5 2.5l-.94 2.06-2.06.94zm10 10l.94 2.06.94-2.06 2.06-.94-2.06-.94-.94-2.06-.94 2.06-2.06.94z\"/><path d=\"M17.41 7.96l-1.37-1.37c-.4-.4-.92-.59-1.43-.59-.52 0-1.04.2-1.43.59L10.3 9.45l-7.72 7.72c-.78.78-.78 2.05 0 2.83L4 21.41c.39.39.9.59 1.41.59.51 0 1.02-.2 1.41-.59l7.78-7.78 2.81-2.81c.8-.78.8-2.07 0-2.86zM5.41 20L4 18.59l7.72-7.72 1.47 1.35L5.41 20z\"/>\n",
              "  </svg>\n",
              "      </button>\n",
              "      \n",
              "  <style>\n",
              "    .colab-df-container {\n",
              "      display:flex;\n",
              "      flex-wrap:wrap;\n",
              "      gap: 12px;\n",
              "    }\n",
              "\n",
              "    .colab-df-convert {\n",
              "      background-color: #E8F0FE;\n",
              "      border: none;\n",
              "      border-radius: 50%;\n",
              "      cursor: pointer;\n",
              "      display: none;\n",
              "      fill: #1967D2;\n",
              "      height: 32px;\n",
              "      padding: 0 0 0 0;\n",
              "      width: 32px;\n",
              "    }\n",
              "\n",
              "    .colab-df-convert:hover {\n",
              "      background-color: #E2EBFA;\n",
              "      box-shadow: 0px 1px 2px rgba(60, 64, 67, 0.3), 0px 1px 3px 1px rgba(60, 64, 67, 0.15);\n",
              "      fill: #174EA6;\n",
              "    }\n",
              "\n",
              "    [theme=dark] .colab-df-convert {\n",
              "      background-color: #3B4455;\n",
              "      fill: #D2E3FC;\n",
              "    }\n",
              "\n",
              "    [theme=dark] .colab-df-convert:hover {\n",
              "      background-color: #434B5C;\n",
              "      box-shadow: 0px 1px 3px 1px rgba(0, 0, 0, 0.15);\n",
              "      filter: drop-shadow(0px 1px 2px rgba(0, 0, 0, 0.3));\n",
              "      fill: #FFFFFF;\n",
              "    }\n",
              "  </style>\n",
              "\n",
              "      <script>\n",
              "        const buttonEl =\n",
              "          document.querySelector('#df-4a23cc8a-43ae-40d1-977b-d294b4a50f72 button.colab-df-convert');\n",
              "        buttonEl.style.display =\n",
              "          google.colab.kernel.accessAllowed ? 'block' : 'none';\n",
              "\n",
              "        async function convertToInteractive(key) {\n",
              "          const element = document.querySelector('#df-4a23cc8a-43ae-40d1-977b-d294b4a50f72');\n",
              "          const dataTable =\n",
              "            await google.colab.kernel.invokeFunction('convertToInteractive',\n",
              "                                                     [key], {});\n",
              "          if (!dataTable) return;\n",
              "\n",
              "          const docLinkHtml = 'Like what you see? Visit the ' +\n",
              "            '<a target=\"_blank\" href=https://colab.research.google.com/notebooks/data_table.ipynb>data table notebook</a>'\n",
              "            + ' to learn more about interactive tables.';\n",
              "          element.innerHTML = '';\n",
              "          dataTable['output_type'] = 'display_data';\n",
              "          await google.colab.output.renderOutput(dataTable, element);\n",
              "          const docLink = document.createElement('div');\n",
              "          docLink.innerHTML = docLinkHtml;\n",
              "          element.appendChild(docLink);\n",
              "        }\n",
              "      </script>\n",
              "    </div>\n",
              "  </div>\n",
              "  "
            ],
            "text/plain": [
              "         polarity  ...                                               text\n",
              "394862          0  ...        Im sick with a darn fever. I feel horrible \n",
              "320915          0  ...   cant keep up with tweets they come up to quick  \n",
              "601012          0  ...                                      damm weather \n",
              "778522          0  ...  @Malechite oops sorry if i sounded like drowne...\n",
              "270008          0  ...  @begthehobo LOL, yeah, the intuos is... the ba...\n",
              "1184345         4  ...  @ParkerMama I don't know you yet, but I'm hopi...\n",
              "276195          0  ...  This is weird. There's a site called TWEEPLE.I...\n",
              "927213          4  ...  @shaundiviney i know aye, isn't it AMAZING. @s...\n",
              "1387617         4  ...        @DazMSmith hee hee! Nice to appreciate it! \n",
              "818741          4  ...  @pinkmango77 It is cool, indeed. If you'll exc...\n",
              "\n",
              "[10 rows x 6 columns]"
            ]
          },
          "metadata": {},
          "execution_count": 8
        }
      ]
    },
    {
      "cell_type": "code",
      "source": [
        "data['polarity'].unique()"
      ],
      "metadata": {
        "id": "CEGPNsXRdkks",
        "outputId": "f86b85fc-d700-4c10-a0d7-0442977f5a39",
        "execution": {
          "iopub.status.busy": "2022-01-29T15:32:28.680349Z",
          "iopub.execute_input": "2022-01-29T15:32:28.681227Z",
          "iopub.status.idle": "2022-01-29T15:32:28.700211Z",
          "shell.execute_reply.started": "2022-01-29T15:32:28.681173Z",
          "shell.execute_reply": "2022-01-29T15:32:28.69736Z"
        },
        "trusted": true,
        "colab": {
          "base_uri": "https://localhost:8080/"
        }
      },
      "execution_count": 9,
      "outputs": [
        {
          "output_type": "execute_result",
          "data": {
            "text/plain": [
              "array([0, 4])"
            ]
          },
          "metadata": {},
          "execution_count": 9
        }
      ]
    },
    {
      "cell_type": "code",
      "source": [
        "# Cambio el valor 4 por el numero 1 para simplicidad \n",
        "data['polarity'] = data['polarity'].replace(4,1)\n",
        "data.head()\n",
        "print(\"Valores cambiados\")"
      ],
      "metadata": {
        "id": "Tl4afas1W20w",
        "outputId": "80357848-7c0a-4864-bd4d-c760846a9c3e",
        "execution": {
          "iopub.status.busy": "2022-01-29T15:32:30.649Z",
          "iopub.execute_input": "2022-01-29T15:32:30.649326Z",
          "iopub.status.idle": "2022-01-29T15:32:30.658814Z",
          "shell.execute_reply.started": "2022-01-29T15:32:30.649298Z",
          "shell.execute_reply": "2022-01-29T15:32:30.657378Z"
        },
        "trusted": true,
        "colab": {
          "base_uri": "https://localhost:8080/"
        }
      },
      "execution_count": 10,
      "outputs": [
        {
          "output_type": "stream",
          "name": "stdout",
          "text": [
            "Valores cambiados\n"
          ]
        }
      ]
    },
    {
      "cell_type": "code",
      "source": [
        "data.describe()"
      ],
      "metadata": {
        "id": "evVpnAuDwo64",
        "outputId": "8848bd06-9531-40a1-e37b-a7a1b7c8ca8a",
        "execution": {
          "iopub.status.busy": "2022-01-29T15:32:33.431Z",
          "iopub.execute_input": "2022-01-29T15:32:33.431329Z",
          "iopub.status.idle": "2022-01-29T15:32:33.460001Z",
          "shell.execute_reply.started": "2022-01-29T15:32:33.4313Z",
          "shell.execute_reply": "2022-01-29T15:32:33.458996Z"
        },
        "trusted": true,
        "colab": {
          "base_uri": "https://localhost:8080/",
          "height": 300
        }
      },
      "execution_count": 11,
      "outputs": [
        {
          "output_type": "execute_result",
          "data": {
            "text/html": [
              "\n",
              "  <div id=\"df-e84908ef-c05c-4003-923c-7f5feba16a09\">\n",
              "    <div class=\"colab-df-container\">\n",
              "      <div>\n",
              "<style scoped>\n",
              "    .dataframe tbody tr th:only-of-type {\n",
              "        vertical-align: middle;\n",
              "    }\n",
              "\n",
              "    .dataframe tbody tr th {\n",
              "        vertical-align: top;\n",
              "    }\n",
              "\n",
              "    .dataframe thead th {\n",
              "        text-align: right;\n",
              "    }\n",
              "</style>\n",
              "<table border=\"1\" class=\"dataframe\">\n",
              "  <thead>\n",
              "    <tr style=\"text-align: right;\">\n",
              "      <th></th>\n",
              "      <th>polarity</th>\n",
              "      <th>id</th>\n",
              "    </tr>\n",
              "  </thead>\n",
              "  <tbody>\n",
              "    <tr>\n",
              "      <th>count</th>\n",
              "      <td>200000.00000</td>\n",
              "      <td>2.000000e+05</td>\n",
              "    </tr>\n",
              "    <tr>\n",
              "      <th>mean</th>\n",
              "      <td>0.49908</td>\n",
              "      <td>1.999030e+09</td>\n",
              "    </tr>\n",
              "    <tr>\n",
              "      <th>std</th>\n",
              "      <td>0.50000</td>\n",
              "      <td>1.932884e+08</td>\n",
              "    </tr>\n",
              "    <tr>\n",
              "      <th>min</th>\n",
              "      <td>0.00000</td>\n",
              "      <td>1.467811e+09</td>\n",
              "    </tr>\n",
              "    <tr>\n",
              "      <th>25%</th>\n",
              "      <td>0.00000</td>\n",
              "      <td>1.956913e+09</td>\n",
              "    </tr>\n",
              "    <tr>\n",
              "      <th>50%</th>\n",
              "      <td>0.00000</td>\n",
              "      <td>2.002102e+09</td>\n",
              "    </tr>\n",
              "    <tr>\n",
              "      <th>75%</th>\n",
              "      <td>1.00000</td>\n",
              "      <td>2.177031e+09</td>\n",
              "    </tr>\n",
              "    <tr>\n",
              "      <th>max</th>\n",
              "      <td>1.00000</td>\n",
              "      <td>2.329206e+09</td>\n",
              "    </tr>\n",
              "  </tbody>\n",
              "</table>\n",
              "</div>\n",
              "      <button class=\"colab-df-convert\" onclick=\"convertToInteractive('df-e84908ef-c05c-4003-923c-7f5feba16a09')\"\n",
              "              title=\"Convert this dataframe to an interactive table.\"\n",
              "              style=\"display:none;\">\n",
              "        \n",
              "  <svg xmlns=\"http://www.w3.org/2000/svg\" height=\"24px\"viewBox=\"0 0 24 24\"\n",
              "       width=\"24px\">\n",
              "    <path d=\"M0 0h24v24H0V0z\" fill=\"none\"/>\n",
              "    <path d=\"M18.56 5.44l.94 2.06.94-2.06 2.06-.94-2.06-.94-.94-2.06-.94 2.06-2.06.94zm-11 1L8.5 8.5l.94-2.06 2.06-.94-2.06-.94L8.5 2.5l-.94 2.06-2.06.94zm10 10l.94 2.06.94-2.06 2.06-.94-2.06-.94-.94-2.06-.94 2.06-2.06.94z\"/><path d=\"M17.41 7.96l-1.37-1.37c-.4-.4-.92-.59-1.43-.59-.52 0-1.04.2-1.43.59L10.3 9.45l-7.72 7.72c-.78.78-.78 2.05 0 2.83L4 21.41c.39.39.9.59 1.41.59.51 0 1.02-.2 1.41-.59l7.78-7.78 2.81-2.81c.8-.78.8-2.07 0-2.86zM5.41 20L4 18.59l7.72-7.72 1.47 1.35L5.41 20z\"/>\n",
              "  </svg>\n",
              "      </button>\n",
              "      \n",
              "  <style>\n",
              "    .colab-df-container {\n",
              "      display:flex;\n",
              "      flex-wrap:wrap;\n",
              "      gap: 12px;\n",
              "    }\n",
              "\n",
              "    .colab-df-convert {\n",
              "      background-color: #E8F0FE;\n",
              "      border: none;\n",
              "      border-radius: 50%;\n",
              "      cursor: pointer;\n",
              "      display: none;\n",
              "      fill: #1967D2;\n",
              "      height: 32px;\n",
              "      padding: 0 0 0 0;\n",
              "      width: 32px;\n",
              "    }\n",
              "\n",
              "    .colab-df-convert:hover {\n",
              "      background-color: #E2EBFA;\n",
              "      box-shadow: 0px 1px 2px rgba(60, 64, 67, 0.3), 0px 1px 3px 1px rgba(60, 64, 67, 0.15);\n",
              "      fill: #174EA6;\n",
              "    }\n",
              "\n",
              "    [theme=dark] .colab-df-convert {\n",
              "      background-color: #3B4455;\n",
              "      fill: #D2E3FC;\n",
              "    }\n",
              "\n",
              "    [theme=dark] .colab-df-convert:hover {\n",
              "      background-color: #434B5C;\n",
              "      box-shadow: 0px 1px 3px 1px rgba(0, 0, 0, 0.15);\n",
              "      filter: drop-shadow(0px 1px 2px rgba(0, 0, 0, 0.3));\n",
              "      fill: #FFFFFF;\n",
              "    }\n",
              "  </style>\n",
              "\n",
              "      <script>\n",
              "        const buttonEl =\n",
              "          document.querySelector('#df-e84908ef-c05c-4003-923c-7f5feba16a09 button.colab-df-convert');\n",
              "        buttonEl.style.display =\n",
              "          google.colab.kernel.accessAllowed ? 'block' : 'none';\n",
              "\n",
              "        async function convertToInteractive(key) {\n",
              "          const element = document.querySelector('#df-e84908ef-c05c-4003-923c-7f5feba16a09');\n",
              "          const dataTable =\n",
              "            await google.colab.kernel.invokeFunction('convertToInteractive',\n",
              "                                                     [key], {});\n",
              "          if (!dataTable) return;\n",
              "\n",
              "          const docLinkHtml = 'Like what you see? Visit the ' +\n",
              "            '<a target=\"_blank\" href=https://colab.research.google.com/notebooks/data_table.ipynb>data table notebook</a>'\n",
              "            + ' to learn more about interactive tables.';\n",
              "          element.innerHTML = '';\n",
              "          dataTable['output_type'] = 'display_data';\n",
              "          await google.colab.output.renderOutput(dataTable, element);\n",
              "          const docLink = document.createElement('div');\n",
              "          docLink.innerHTML = docLinkHtml;\n",
              "          element.appendChild(docLink);\n",
              "        }\n",
              "      </script>\n",
              "    </div>\n",
              "  </div>\n",
              "  "
            ],
            "text/plain": [
              "           polarity            id\n",
              "count  200000.00000  2.000000e+05\n",
              "mean        0.49908  1.999030e+09\n",
              "std         0.50000  1.932884e+08\n",
              "min         0.00000  1.467811e+09\n",
              "25%         0.00000  1.956913e+09\n",
              "50%         0.00000  2.002102e+09\n",
              "75%         1.00000  2.177031e+09\n",
              "max         1.00000  2.329206e+09"
            ]
          },
          "metadata": {},
          "execution_count": 11
        }
      ]
    },
    {
      "cell_type": "markdown",
      "source": [
        "# Cantidad de oraciones negativas y positivas"
      ],
      "metadata": {
        "id": "Gyr616cnvfXx"
      }
    },
    {
      "cell_type": "code",
      "source": [
        "positives = data['polarity'][data.polarity == 1 ]\n",
        "negatives = data['polarity'][data.polarity == 0 ]\n",
        "\n",
        "print('Tamaño de muestras:         {}'.format(data.shape[0]))\n",
        "print('Numero de oraciones positivas:  {}'.format(len(positives)))\n",
        "print('Numero de oraciones negativas: {}'.format(len(negatives)))"
      ],
      "metadata": {
        "id": "iTN9l7p2w_N0",
        "outputId": "e14aeda6-98a8-4bd5-bfb5-5d43cf959a1c",
        "execution": {
          "iopub.status.busy": "2021-12-31T16:36:09.455588Z",
          "iopub.execute_input": "2021-12-31T16:36:09.455908Z",
          "iopub.status.idle": "2021-12-31T16:36:09.48269Z",
          "shell.execute_reply.started": "2021-12-31T16:36:09.455872Z",
          "shell.execute_reply": "2021-12-31T16:36:09.481994Z"
        },
        "trusted": true,
        "colab": {
          "base_uri": "https://localhost:8080/"
        }
      },
      "execution_count": 12,
      "outputs": [
        {
          "output_type": "stream",
          "name": "stdout",
          "text": [
            "Tamaño de muestras:         200000\n",
            "Numero de oraciones positivas:  99816\n",
            "Numero de oraciones negativas: 100184\n"
          ]
        }
      ]
    },
    {
      "cell_type": "code",
      "source": [
        "# Retorna el conteo de letras en una oracion\n",
        "def word_count(words):\n",
        "    return len(words.split())"
      ],
      "metadata": {
        "id": "FZCZYZKn00Iv",
        "execution": {
          "iopub.status.busy": "2021-12-31T16:36:11.361907Z",
          "iopub.execute_input": "2021-12-31T16:36:11.362214Z",
          "iopub.status.idle": "2021-12-31T16:36:11.368239Z",
          "shell.execute_reply.started": "2021-12-31T16:36:11.362186Z",
          "shell.execute_reply": "2021-12-31T16:36:11.367373Z"
        },
        "trusted": true
      },
      "execution_count": 13,
      "outputs": []
    },
    {
      "cell_type": "code",
      "source": [
        "# Obtiene las palabras mas utilizadas\n",
        "from collections import Counter\n",
        "all_words = []\n",
        "for line in list(data['text']):\n",
        "    words = line.split()\n",
        "    for word in words:\n",
        "      if(len(word)>2):\n",
        "        all_words.append(word.lower())\n",
        "    \n",
        "    \n",
        "Counter(all_words).most_common(20)"
      ],
      "metadata": {
        "id": "AudC8DVW07Cf",
        "outputId": "b6236b82-0094-4930-c4b6-a6dee4af7ee9",
        "execution": {
          "iopub.status.busy": "2021-12-31T16:36:13.455269Z",
          "iopub.execute_input": "2021-12-31T16:36:13.455668Z",
          "iopub.status.idle": "2021-12-31T16:36:14.912219Z",
          "shell.execute_reply.started": "2021-12-31T16:36:13.455627Z",
          "shell.execute_reply": "2021-12-31T16:36:14.911363Z"
        },
        "trusted": true,
        "colab": {
          "base_uri": "https://localhost:8080/"
        }
      },
      "execution_count": 14,
      "outputs": [
        {
          "output_type": "execute_result",
          "data": {
            "text/plain": [
              "[('the', 65332),\n",
              " ('and', 36987),\n",
              " ('you', 29421),\n",
              " ('for', 26793),\n",
              " ('have', 18046),\n",
              " ('that', 16156),\n",
              " (\"i'm\", 16016),\n",
              " ('but', 15643),\n",
              " ('just', 15512),\n",
              " ('with', 14200),\n",
              " ('was', 12862),\n",
              " ('not', 12859),\n",
              " ('this', 11206),\n",
              " ('get', 10053),\n",
              " ('good', 9679),\n",
              " ('are', 9530),\n",
              " ('all', 9336),\n",
              " ('like', 9321),\n",
              " ('out', 8607),\n",
              " ('your', 8240)]"
            ]
          },
          "metadata": {},
          "execution_count": 14
        }
      ]
    },
    {
      "cell_type": "markdown",
      "source": [
        "# Procesamiento del Dataset"
      ],
      "metadata": {
        "id": "XXzTV672dkkr"
      }
    },
    {
      "cell_type": "code",
      "source": [
        "%matplotlib inline\n",
        "sns.countplot(data['polarity'])"
      ],
      "metadata": {
        "id": "Da5Dmn9Vdkks",
        "outputId": "0ffa0348-f376-4798-a444-140499db3cb8",
        "execution": {
          "iopub.status.busy": "2021-12-31T16:36:17.263379Z",
          "iopub.execute_input": "2021-12-31T16:36:17.26372Z",
          "iopub.status.idle": "2021-12-31T16:36:17.539247Z",
          "shell.execute_reply.started": "2021-12-31T16:36:17.263692Z",
          "shell.execute_reply": "2021-12-31T16:36:17.538357Z"
        },
        "trusted": true,
        "colab": {
          "base_uri": "https://localhost:8080/",
          "height": 298
        }
      },
      "execution_count": 15,
      "outputs": [
        {
          "output_type": "execute_result",
          "data": {
            "text/plain": [
              "<matplotlib.axes._subplots.AxesSubplot at 0x7f77ac9199d0>"
            ]
          },
          "metadata": {},
          "execution_count": 15
        },
        {
          "output_type": "display_data",
          "data": {
            "image/png": "[encoded data removed]",
            "text/plain": [
              "<Figure size 432x288 with 1 Axes>"
            ]
          },
          "metadata": {
            "needs_background": "light"
          }
        }
      ]
    },
    {
      "cell_type": "code",
      "source": [
        "# Eliminacion de columnas innecesarias.\n",
        "data.drop(['date','query','user'], axis=1, inplace=True)\n",
        "print('Columnas eliminadas')"
      ],
      "metadata": {
        "id": "VE6nqmh5dkku",
        "execution": {
          "iopub.status.busy": "2021-12-31T16:36:24.685578Z",
          "iopub.execute_input": "2021-12-31T16:36:24.68589Z",
          "iopub.status.idle": "2021-12-31T16:36:24.701156Z",
          "shell.execute_reply.started": "2021-12-31T16:36:24.68586Z",
          "shell.execute_reply": "2021-12-31T16:36:24.700021Z"
        },
        "trusted": true,
        "colab": {
          "base_uri": "https://localhost:8080/"
        },
        "outputId": "65e715da-5a0f-4315-db72-75c5cc6ed4f9"
      },
      "execution_count": 16,
      "outputs": [
        {
          "output_type": "stream",
          "name": "stdout",
          "text": [
            "Columnas eliminadas\n"
          ]
        }
      ]
    },
    {
      "cell_type": "code",
      "source": [
        "data.drop('id', axis=1, inplace=True)"
      ],
      "metadata": {
        "execution": {
          "iopub.status.busy": "2021-12-31T16:36:28.432745Z",
          "iopub.execute_input": "2021-12-31T16:36:28.433172Z",
          "iopub.status.idle": "2021-12-31T16:36:28.465858Z",
          "shell.execute_reply.started": "2021-12-31T16:36:28.433135Z",
          "shell.execute_reply": "2021-12-31T16:36:28.464636Z"
        },
        "trusted": true,
        "id": "F5NX1RzmvfX0"
      },
      "execution_count": 17,
      "outputs": []
    },
    {
      "cell_type": "code",
      "source": [
        "data.head(10)"
      ],
      "metadata": {
        "id": "XNSb32D9dkku",
        "outputId": "322dad4b-789e-4048-9e57-bb807ef7d2e1",
        "execution": {
          "iopub.status.busy": "2021-12-31T16:36:30.423947Z",
          "iopub.execute_input": "2021-12-31T16:36:30.424332Z",
          "iopub.status.idle": "2021-12-31T16:36:30.433923Z",
          "shell.execute_reply.started": "2021-12-31T16:36:30.424278Z",
          "shell.execute_reply": "2021-12-31T16:36:30.432994Z"
        },
        "trusted": true,
        "colab": {
          "base_uri": "https://localhost:8080/",
          "height": 363
        }
      },
      "execution_count": 18,
      "outputs": [
        {
          "output_type": "execute_result",
          "data": {
            "text/html": [
              "\n",
              "  <div id=\"df-96507d32-c4e1-426b-9d13-c3280df1960b\">\n",
              "    <div class=\"colab-df-container\">\n",
              "      <div>\n",
              "<style scoped>\n",
              "    .dataframe tbody tr th:only-of-type {\n",
              "        vertical-align: middle;\n",
              "    }\n",
              "\n",
              "    .dataframe tbody tr th {\n",
              "        vertical-align: top;\n",
              "    }\n",
              "\n",
              "    .dataframe thead th {\n",
              "        text-align: right;\n",
              "    }\n",
              "</style>\n",
              "<table border=\"1\" class=\"dataframe\">\n",
              "  <thead>\n",
              "    <tr style=\"text-align: right;\">\n",
              "      <th></th>\n",
              "      <th>polarity</th>\n",
              "      <th>text</th>\n",
              "    </tr>\n",
              "  </thead>\n",
              "  <tbody>\n",
              "    <tr>\n",
              "      <th>394862</th>\n",
              "      <td>0</td>\n",
              "      <td>Im sick with a darn fever. I feel horrible</td>\n",
              "    </tr>\n",
              "    <tr>\n",
              "      <th>320915</th>\n",
              "      <td>0</td>\n",
              "      <td>cant keep up with tweets they come up to quick</td>\n",
              "    </tr>\n",
              "    <tr>\n",
              "      <th>601012</th>\n",
              "      <td>0</td>\n",
              "      <td>damm weather</td>\n",
              "    </tr>\n",
              "    <tr>\n",
              "      <th>778522</th>\n",
              "      <td>0</td>\n",
              "      <td>@Malechite oops sorry if i sounded like drowne...</td>\n",
              "    </tr>\n",
              "    <tr>\n",
              "      <th>270008</th>\n",
              "      <td>0</td>\n",
              "      <td>@begthehobo LOL, yeah, the intuos is... the ba...</td>\n",
              "    </tr>\n",
              "    <tr>\n",
              "      <th>1184345</th>\n",
              "      <td>1</td>\n",
              "      <td>@ParkerMama I don't know you yet, but I'm hopi...</td>\n",
              "    </tr>\n",
              "    <tr>\n",
              "      <th>276195</th>\n",
              "      <td>0</td>\n",
              "      <td>This is weird. There's a site called TWEEPLE.I...</td>\n",
              "    </tr>\n",
              "    <tr>\n",
              "      <th>927213</th>\n",
              "      <td>1</td>\n",
              "      <td>@shaundiviney i know aye, isn't it AMAZING. @s...</td>\n",
              "    </tr>\n",
              "    <tr>\n",
              "      <th>1387617</th>\n",
              "      <td>1</td>\n",
              "      <td>@DazMSmith hee hee! Nice to appreciate it!</td>\n",
              "    </tr>\n",
              "    <tr>\n",
              "      <th>818741</th>\n",
              "      <td>1</td>\n",
              "      <td>@pinkmango77 It is cool, indeed. If you'll exc...</td>\n",
              "    </tr>\n",
              "  </tbody>\n",
              "</table>\n",
              "</div>\n",
              "      <button class=\"colab-df-convert\" onclick=\"convertToInteractive('df-96507d32-c4e1-426b-9d13-c3280df1960b')\"\n",
              "              title=\"Convert this dataframe to an interactive table.\"\n",
              "              style=\"display:none;\">\n",
              "        \n",
              "  <svg xmlns=\"http://www.w3.org/2000/svg\" height=\"24px\"viewBox=\"0 0 24 24\"\n",
              "       width=\"24px\">\n",
              "    <path d=\"M0 0h24v24H0V0z\" fill=\"none\"/>\n",
              "    <path d=\"M18.56 5.44l.94 2.06.94-2.06 2.06-.94-2.06-.94-.94-2.06-.94 2.06-2.06.94zm-11 1L8.5 8.5l.94-2.06 2.06-.94-2.06-.94L8.5 2.5l-.94 2.06-2.06.94zm10 10l.94 2.06.94-2.06 2.06-.94-2.06-.94-.94-2.06-.94 2.06-2.06.94z\"/><path d=\"M17.41 7.96l-1.37-1.37c-.4-.4-.92-.59-1.43-.59-.52 0-1.04.2-1.43.59L10.3 9.45l-7.72 7.72c-.78.78-.78 2.05 0 2.83L4 21.41c.39.39.9.59 1.41.59.51 0 1.02-.2 1.41-.59l7.78-7.78 2.81-2.81c.8-.78.8-2.07 0-2.86zM5.41 20L4 18.59l7.72-7.72 1.47 1.35L5.41 20z\"/>\n",
              "  </svg>\n",
              "      </button>\n",
              "      \n",
              "  <style>\n",
              "    .colab-df-container {\n",
              "      display:flex;\n",
              "      flex-wrap:wrap;\n",
              "      gap: 12px;\n",
              "    }\n",
              "\n",
              "    .colab-df-convert {\n",
              "      background-color: #E8F0FE;\n",
              "      border: none;\n",
              "      border-radius: 50%;\n",
              "      cursor: pointer;\n",
              "      display: none;\n",
              "      fill: #1967D2;\n",
              "      height: 32px;\n",
              "      padding: 0 0 0 0;\n",
              "      width: 32px;\n",
              "    }\n",
              "\n",
              "    .colab-df-convert:hover {\n",
              "      background-color: #E2EBFA;\n",
              "      box-shadow: 0px 1px 2px rgba(60, 64, 67, 0.3), 0px 1px 3px 1px rgba(60, 64, 67, 0.15);\n",
              "      fill: #174EA6;\n",
              "    }\n",
              "\n",
              "    [theme=dark] .colab-df-convert {\n",
              "      background-color: #3B4455;\n",
              "      fill: #D2E3FC;\n",
              "    }\n",
              "\n",
              "    [theme=dark] .colab-df-convert:hover {\n",
              "      background-color: #434B5C;\n",
              "      box-shadow: 0px 1px 3px 1px rgba(0, 0, 0, 0.15);\n",
              "      filter: drop-shadow(0px 1px 2px rgba(0, 0, 0, 0.3));\n",
              "      fill: #FFFFFF;\n",
              "    }\n",
              "  </style>\n",
              "\n",
              "      <script>\n",
              "        const buttonEl =\n",
              "          document.querySelector('#df-96507d32-c4e1-426b-9d13-c3280df1960b button.colab-df-convert');\n",
              "        buttonEl.style.display =\n",
              "          google.colab.kernel.accessAllowed ? 'block' : 'none';\n",
              "\n",
              "        async function convertToInteractive(key) {\n",
              "          const element = document.querySelector('#df-96507d32-c4e1-426b-9d13-c3280df1960b');\n",
              "          const dataTable =\n",
              "            await google.colab.kernel.invokeFunction('convertToInteractive',\n",
              "                                                     [key], {});\n",
              "          if (!dataTable) return;\n",
              "\n",
              "          const docLinkHtml = 'Like what you see? Visit the ' +\n",
              "            '<a target=\"_blank\" href=https://colab.research.google.com/notebooks/data_table.ipynb>data table notebook</a>'\n",
              "            + ' to learn more about interactive tables.';\n",
              "          element.innerHTML = '';\n",
              "          dataTable['output_type'] = 'display_data';\n",
              "          await google.colab.output.renderOutput(dataTable, element);\n",
              "          const docLink = document.createElement('div');\n",
              "          docLink.innerHTML = docLinkHtml;\n",
              "          element.appendChild(docLink);\n",
              "        }\n",
              "      </script>\n",
              "    </div>\n",
              "  </div>\n",
              "  "
            ],
            "text/plain": [
              "         polarity                                               text\n",
              "394862          0        Im sick with a darn fever. I feel horrible \n",
              "320915          0   cant keep up with tweets they come up to quick  \n",
              "601012          0                                      damm weather \n",
              "778522          0  @Malechite oops sorry if i sounded like drowne...\n",
              "270008          0  @begthehobo LOL, yeah, the intuos is... the ba...\n",
              "1184345         1  @ParkerMama I don't know you yet, but I'm hopi...\n",
              "276195          0  This is weird. There's a site called TWEEPLE.I...\n",
              "927213          1  @shaundiviney i know aye, isn't it AMAZING. @s...\n",
              "1387617         1        @DazMSmith hee hee! Nice to appreciate it! \n",
              "818741          1  @pinkmango77 It is cool, indeed. If you'll exc..."
            ]
          },
          "metadata": {},
          "execution_count": 18
        }
      ]
    },
    {
      "cell_type": "code",
      "source": [
        "# Verificar si existen valores nulos\n",
        "(data.isnull().sum() / len(data))*100"
      ],
      "metadata": {
        "id": "vI1xFqAZdkku",
        "outputId": "bb1a1d88-c1ff-4fda-e283-a3083ce16dd4",
        "execution": {
          "iopub.status.busy": "2021-12-31T16:36:33.549734Z",
          "iopub.execute_input": "2021-12-31T16:36:33.550048Z",
          "iopub.status.idle": "2021-12-31T16:36:33.592242Z",
          "shell.execute_reply.started": "2021-12-31T16:36:33.550019Z",
          "shell.execute_reply": "2021-12-31T16:36:33.591033Z"
        },
        "trusted": true,
        "colab": {
          "base_uri": "https://localhost:8080/"
        }
      },
      "execution_count": 19,
      "outputs": [
        {
          "output_type": "execute_result",
          "data": {
            "text/plain": [
              "polarity    0.0\n",
              "text        0.0\n",
              "dtype: float64"
            ]
          },
          "metadata": {},
          "execution_count": 19
        }
      ]
    },
    {
      "cell_type": "code",
      "source": [
        "#Cambio de tipo pandas a string\n",
        "data['text'] = data['text'].astype('str')"
      ],
      "metadata": {
        "id": "ThC3QfwupuUs",
        "execution": {
          "iopub.status.busy": "2021-12-31T16:36:35.771854Z",
          "iopub.execute_input": "2021-12-31T16:36:35.772182Z",
          "iopub.status.idle": "2021-12-31T16:36:35.867228Z",
          "shell.execute_reply.started": "2021-12-31T16:36:35.772152Z",
          "shell.execute_reply": "2021-12-31T16:36:35.866357Z"
        },
        "trusted": true
      },
      "execution_count": 20,
      "outputs": []
    },
    {
      "cell_type": "code",
      "source": [
        "nltk.download('stopwords')\n",
        "stopword = set(stopwords.words('english'))\n",
        "print(stopword)"
      ],
      "metadata": {
        "id": "sUxte8kadkkt",
        "outputId": "85c0981b-d6f2-4e63-8439-8ca7f98bd86e",
        "execution": {
          "iopub.status.busy": "2021-12-31T16:36:38.070988Z",
          "iopub.execute_input": "2021-12-31T16:36:38.071341Z",
          "iopub.status.idle": "2021-12-31T16:36:38.205693Z",
          "shell.execute_reply.started": "2021-12-31T16:36:38.071308Z",
          "shell.execute_reply": "2021-12-31T16:36:38.204977Z"
        },
        "trusted": true,
        "colab": {
          "base_uri": "https://localhost:8080/"
        }
      },
      "execution_count": 21,
      "outputs": [
        {
          "output_type": "stream",
          "name": "stdout",
          "text": [
            "[nltk_data] Downloading package stopwords to /root/nltk_data...\n",
            "[nltk_data]   Unzipping corpora/stopwords.zip.\n",
            "{\"shouldn't\", 'this', 'i', 'both', 'has', 'yourself', 'my', 'again', 'll', 'below', 'the', 'm', \"won't\", 'had', 'mightn', 'or', 'further', 'there', 'yours', 'they', 'aren', 'd', 'am', 'that', 'all', 'does', 'wasn', 'into', 'other', 'who', 'its', 's', \"isn't\", 'himself', 'what', 'o', \"wasn't\", 'it', \"shan't\", 'needn', \"she's\", 'and', 'isn', 'at', 'no', 'can', 'because', 'hadn', 're', \"you'd\", 'which', \"needn't\", 'an', 'your', 'too', 'been', 'by', 'y', 'nor', \"it's\", 'own', 'to', 'in', 'she', 'of', 'yourselves', 'before', 'ourselves', 'whom', 'wouldn', 'his', 'ours', 'me', 'them', \"hasn't\", 'about', \"aren't\", 'do', 'any', 'doing', 'couldn', 'such', 'than', 'ain', \"doesn't\", 'against', 'mustn', 'here', 'shouldn', \"weren't\", 'few', 'through', 'her', 'but', 'until', \"didn't\", 'these', 'you', 'those', 'for', 'a', 'under', 'most', 'very', 'after', 've', \"you've\", \"that'll\", 'from', \"don't\", 'myself', 'have', 'weren', 'while', 'just', 'theirs', 'didn', \"mustn't\", 'being', 'why', 'with', 'ma', 'was', \"wouldn't\", 't', \"couldn't\", 'were', 'will', 'themselves', 'as', \"haven't\", 'where', 'he', 'their', 'itself', 'when', 'hasn', 'now', \"you'll\", 'our', \"should've\", 'off', 'doesn', 'on', 'did', 'shan', \"you're\", 'out', 'so', 'over', 'each', 'down', 'not', 'up', 'be', \"hadn't\", 'herself', 'is', 'how', 'between', 'we', 'once', 'more', 'above', 'only', 'don', 'are', 'same', 'won', 'should', 'him', 'haven', 'hers', 'if', 'some', 'then', \"mightn't\", 'during', 'having'}\n"
          ]
        }
      ]
    },
    {
      "cell_type": "code",
      "source": [
        "nltk.download('punkt')\n",
        "nltk.download('wordnet')"
      ],
      "metadata": {
        "id": "eIbgnD6_p8Dr",
        "outputId": "720756d0-6390-42b8-a853-c5b2e8c6a8eb",
        "execution": {
          "iopub.status.busy": "2021-12-31T16:36:40.355786Z",
          "iopub.execute_input": "2021-12-31T16:36:40.356111Z",
          "iopub.status.idle": "2021-12-31T16:36:40.442389Z",
          "shell.execute_reply.started": "2021-12-31T16:36:40.35608Z",
          "shell.execute_reply": "2021-12-31T16:36:40.441451Z"
        },
        "trusted": true,
        "colab": {
          "base_uri": "https://localhost:8080/"
        }
      },
      "execution_count": 22,
      "outputs": [
        {
          "output_type": "stream",
          "name": "stdout",
          "text": [
            "[nltk_data] Downloading package punkt to /root/nltk_data...\n",
            "[nltk_data]   Unzipping tokenizers/punkt.zip.\n",
            "[nltk_data] Downloading package wordnet to /root/nltk_data...\n",
            "[nltk_data]   Unzipping corpora/wordnet.zip.\n"
          ]
        },
        {
          "output_type": "execute_result",
          "data": {
            "text/plain": [
              "True"
            ]
          },
          "metadata": {},
          "execution_count": 22
        }
      ]
    },
    {
      "cell_type": "markdown",
      "source": [
        ">  Los pasos de preprocesamiento  son:\n",
        "\n",
        "* Minúsculas: cada texto se convierte a minúsculas.\n",
        "* Eliminación de URL: los enlaces que comienzan con \"http\" o \"https\" o \"www\" se reemplazan por \"\".\n",
        "* Eliminación de nombres de usuario: reemplace @Nombres de usuario con la palabra \"\". (por ejemplo: \"@XYZ\" a \"\")\n",
        "* Eliminación de palabras cortas: Se eliminan las palabras con una longitud menor a 2.\n",
        "* Eliminación de palabras vacías: Las palabras vacías son las palabras en inglés que no agregan mucho significado a una oración. Pueden ignorarse con seguridad sin sacrificar el significado de la oración. (por ejemplo: \"el\", \"él\", \"tener\")\n",
        "* Lematización: La lematización es el proceso de convertir una palabra a su forma básica. (por ejemplo: \"lobos\" a \"lobo\")"
      ],
      "metadata": {
        "id": "wgKLmakU4bTh"
      }
    },
    {
      "cell_type": "code",
      "source": [
        "urlPattern = r\"((http://)[^ ]*|(https://)[^ ]*|( www\\.)[^ ]*)\"\n",
        "userPattern = '@[^\\s]+'\n",
        "def process_tweets(tweet):\n",
        "  # Pasar a minusculas\n",
        "    tweet = tweet.lower()\n",
        "    tweet=tweet[1:]\n",
        "    # Eliminacion de URL\n",
        "    tweet = re.sub(urlPattern,'',tweet)\n",
        "    # Eliminacion de los nombres de usuario\n",
        "    tweet = re.sub(userPattern,'', tweet) \n",
        "    #Eliminacion de puntuaciones \n",
        "    tweet = tweet.translate(str.maketrans(\"\",\"\",string.punctuation))\n",
        "    # Tokenizando las palabras\n",
        "    tokens = word_tokenize(tweet)\n",
        "    # Eliminacion de Stop Words\n",
        "    final_tokens = [w for w in tokens if w not in stopword]\n",
        "    # Lematizacion\n",
        "    wordLemm = WordNetLemmatizer()\n",
        "    finalwords=[]\n",
        "    for w in final_tokens:\n",
        "      if len(w)>1:\n",
        "        word = wordLemm.lemmatize(w)\n",
        "        finalwords.append(word)\n",
        "    return ' '.join(finalwords)\n",
        "print(\"Funcion lista\")"
      ],
      "metadata": {
        "id": "1qK7KlBpdkkt",
        "execution": {
          "iopub.status.busy": "2021-12-31T16:36:43.833295Z",
          "iopub.execute_input": "2021-12-31T16:36:43.833808Z",
          "iopub.status.idle": "2021-12-31T16:36:43.841756Z",
          "shell.execute_reply.started": "2021-12-31T16:36:43.833771Z",
          "shell.execute_reply": "2021-12-31T16:36:43.840851Z"
        },
        "trusted": true,
        "colab": {
          "base_uri": "https://localhost:8080/"
        },
        "outputId": "a203b954-bb81-4ef0-c26f-19f57dc7f322"
      },
      "execution_count": 23,
      "outputs": [
        {
          "output_type": "stream",
          "name": "stdout",
          "text": [
            "Funcion lista\n"
          ]
        }
      ]
    },
    {
      "cell_type": "code",
      "source": [
        "data['processed_tweets'] = data['text'].apply(lambda x: process_tweets(x))\n",
        "print('Procesamiento de datos realizado.')"
      ],
      "metadata": {
        "id": "We9fsGPzdkku",
        "outputId": "17f145a9-af69-4f33-9d5b-bb270be2dee4",
        "execution": {
          "iopub.status.busy": "2021-12-31T16:36:46.961115Z",
          "iopub.execute_input": "2021-12-31T16:36:46.961458Z",
          "iopub.status.idle": "2021-12-31T16:37:33.165703Z",
          "shell.execute_reply.started": "2021-12-31T16:36:46.961428Z",
          "shell.execute_reply": "2021-12-31T16:37:33.164934Z"
        },
        "trusted": true,
        "colab": {
          "base_uri": "https://localhost:8080/"
        }
      },
      "execution_count": 24,
      "outputs": [
        {
          "output_type": "stream",
          "name": "stdout",
          "text": [
            "Procesamiento de datos realizado.\n"
          ]
        }
      ]
    },
    {
      "cell_type": "code",
      "source": [
        "data.head(10)\n"
      ],
      "metadata": {
        "id": "25A79MOtdkkv",
        "outputId": "1f0739b1-1030-4fe2-d212-b9c21fff5b1b",
        "execution": {
          "iopub.status.busy": "2021-12-31T16:38:06.364998Z",
          "iopub.execute_input": "2021-12-31T16:38:06.365322Z",
          "iopub.status.idle": "2021-12-31T16:38:06.378048Z",
          "shell.execute_reply.started": "2021-12-31T16:38:06.365293Z",
          "shell.execute_reply": "2021-12-31T16:38:06.377038Z"
        },
        "trusted": true,
        "colab": {
          "base_uri": "https://localhost:8080/",
          "height": 363
        }
      },
      "execution_count": 25,
      "outputs": [
        {
          "output_type": "execute_result",
          "data": {
            "text/html": [
              "\n",
              "  <div id=\"df-e933ded2-68e2-41ca-83e9-784504fed67d\">\n",
              "    <div class=\"colab-df-container\">\n",
              "      <div>\n",
              "<style scoped>\n",
              "    .dataframe tbody tr th:only-of-type {\n",
              "        vertical-align: middle;\n",
              "    }\n",
              "\n",
              "    .dataframe tbody tr th {\n",
              "        vertical-align: top;\n",
              "    }\n",
              "\n",
              "    .dataframe thead th {\n",
              "        text-align: right;\n",
              "    }\n",
              "</style>\n",
              "<table border=\"1\" class=\"dataframe\">\n",
              "  <thead>\n",
              "    <tr style=\"text-align: right;\">\n",
              "      <th></th>\n",
              "      <th>polarity</th>\n",
              "      <th>text</th>\n",
              "      <th>processed_tweets</th>\n",
              "    </tr>\n",
              "  </thead>\n",
              "  <tbody>\n",
              "    <tr>\n",
              "      <th>394862</th>\n",
              "      <td>0</td>\n",
              "      <td>Im sick with a darn fever. I feel horrible</td>\n",
              "      <td>sick darn fever feel horrible</td>\n",
              "    </tr>\n",
              "    <tr>\n",
              "      <th>320915</th>\n",
              "      <td>0</td>\n",
              "      <td>cant keep up with tweets they come up to quick</td>\n",
              "      <td>ant keep tweet come quick</td>\n",
              "    </tr>\n",
              "    <tr>\n",
              "      <th>601012</th>\n",
              "      <td>0</td>\n",
              "      <td>damm weather</td>\n",
              "      <td>amm weather</td>\n",
              "    </tr>\n",
              "    <tr>\n",
              "      <th>778522</th>\n",
              "      <td>0</td>\n",
              "      <td>@Malechite oops sorry if i sounded like drowne...</td>\n",
              "      <td>malechite oops sorry sounded like drowned kitteh</td>\n",
              "    </tr>\n",
              "    <tr>\n",
              "      <th>270008</th>\n",
              "      <td>0</td>\n",
              "      <td>@begthehobo LOL, yeah, the intuos is... the ba...</td>\n",
              "      <td>begthehobo lol yeah intuos bamboo around 200 l...</td>\n",
              "    </tr>\n",
              "    <tr>\n",
              "      <th>1184345</th>\n",
              "      <td>1</td>\n",
              "      <td>@ParkerMama I don't know you yet, but I'm hopi...</td>\n",
              "      <td>parkermama dont know yet im hoping sorry bad n...</td>\n",
              "    </tr>\n",
              "    <tr>\n",
              "      <th>276195</th>\n",
              "      <td>0</td>\n",
              "      <td>This is weird. There's a site called TWEEPLE.I...</td>\n",
              "      <td>weird there site called tweeplein profile name...</td>\n",
              "    </tr>\n",
              "    <tr>\n",
              "      <th>927213</th>\n",
              "      <td>1</td>\n",
              "      <td>@shaundiviney i know aye, isn't it AMAZING. @s...</td>\n",
              "      <td>shaundiviney know aye isnt amazing see sonny w...</td>\n",
              "    </tr>\n",
              "    <tr>\n",
              "      <th>1387617</th>\n",
              "      <td>1</td>\n",
              "      <td>@DazMSmith hee hee! Nice to appreciate it!</td>\n",
              "      <td>dazmsmith hee hee nice appreciate</td>\n",
              "    </tr>\n",
              "    <tr>\n",
              "      <th>818741</th>\n",
              "      <td>1</td>\n",
              "      <td>@pinkmango77 It is cool, indeed. If you'll exc...</td>\n",
              "      <td>pinkmango77 cool indeed youll excuse must show...</td>\n",
              "    </tr>\n",
              "  </tbody>\n",
              "</table>\n",
              "</div>\n",
              "      <button class=\"colab-df-convert\" onclick=\"convertToInteractive('df-e933ded2-68e2-41ca-83e9-784504fed67d')\"\n",
              "              title=\"Convert this dataframe to an interactive table.\"\n",
              "              style=\"display:none;\">\n",
              "        \n",
              "  <svg xmlns=\"http://www.w3.org/2000/svg\" height=\"24px\"viewBox=\"0 0 24 24\"\n",
              "       width=\"24px\">\n",
              "    <path d=\"M0 0h24v24H0V0z\" fill=\"none\"/>\n",
              "    <path d=\"M18.56 5.44l.94 2.06.94-2.06 2.06-.94-2.06-.94-.94-2.06-.94 2.06-2.06.94zm-11 1L8.5 8.5l.94-2.06 2.06-.94-2.06-.94L8.5 2.5l-.94 2.06-2.06.94zm10 10l.94 2.06.94-2.06 2.06-.94-2.06-.94-.94-2.06-.94 2.06-2.06.94z\"/><path d=\"M17.41 7.96l-1.37-1.37c-.4-.4-.92-.59-1.43-.59-.52 0-1.04.2-1.43.59L10.3 9.45l-7.72 7.72c-.78.78-.78 2.05 0 2.83L4 21.41c.39.39.9.59 1.41.59.51 0 1.02-.2 1.41-.59l7.78-7.78 2.81-2.81c.8-.78.8-2.07 0-2.86zM5.41 20L4 18.59l7.72-7.72 1.47 1.35L5.41 20z\"/>\n",
              "  </svg>\n",
              "      </button>\n",
              "      \n",
              "  <style>\n",
              "    .colab-df-container {\n",
              "      display:flex;\n",
              "      flex-wrap:wrap;\n",
              "      gap: 12px;\n",
              "    }\n",
              "\n",
              "    .colab-df-convert {\n",
              "      background-color: #E8F0FE;\n",
              "      border: none;\n",
              "      border-radius: 50%;\n",
              "      cursor: pointer;\n",
              "      display: none;\n",
              "      fill: #1967D2;\n",
              "      height: 32px;\n",
              "      padding: 0 0 0 0;\n",
              "      width: 32px;\n",
              "    }\n",
              "\n",
              "    .colab-df-convert:hover {\n",
              "      background-color: #E2EBFA;\n",
              "      box-shadow: 0px 1px 2px rgba(60, 64, 67, 0.3), 0px 1px 3px 1px rgba(60, 64, 67, 0.15);\n",
              "      fill: #174EA6;\n",
              "    }\n",
              "\n",
              "    [theme=dark] .colab-df-convert {\n",
              "      background-color: #3B4455;\n",
              "      fill: #D2E3FC;\n",
              "    }\n",
              "\n",
              "    [theme=dark] .colab-df-convert:hover {\n",
              "      background-color: #434B5C;\n",
              "      box-shadow: 0px 1px 3px 1px rgba(0, 0, 0, 0.15);\n",
              "      filter: drop-shadow(0px 1px 2px rgba(0, 0, 0, 0.3));\n",
              "      fill: #FFFFFF;\n",
              "    }\n",
              "  </style>\n",
              "\n",
              "      <script>\n",
              "        const buttonEl =\n",
              "          document.querySelector('#df-e933ded2-68e2-41ca-83e9-784504fed67d button.colab-df-convert');\n",
              "        buttonEl.style.display =\n",
              "          google.colab.kernel.accessAllowed ? 'block' : 'none';\n",
              "\n",
              "        async function convertToInteractive(key) {\n",
              "          const element = document.querySelector('#df-e933ded2-68e2-41ca-83e9-784504fed67d');\n",
              "          const dataTable =\n",
              "            await google.colab.kernel.invokeFunction('convertToInteractive',\n",
              "                                                     [key], {});\n",
              "          if (!dataTable) return;\n",
              "\n",
              "          const docLinkHtml = 'Like what you see? Visit the ' +\n",
              "            '<a target=\"_blank\" href=https://colab.research.google.com/notebooks/data_table.ipynb>data table notebook</a>'\n",
              "            + ' to learn more about interactive tables.';\n",
              "          element.innerHTML = '';\n",
              "          dataTable['output_type'] = 'display_data';\n",
              "          await google.colab.output.renderOutput(dataTable, element);\n",
              "          const docLink = document.createElement('div');\n",
              "          docLink.innerHTML = docLinkHtml;\n",
              "          element.appendChild(docLink);\n",
              "        }\n",
              "      </script>\n",
              "    </div>\n",
              "  </div>\n",
              "  "
            ],
            "text/plain": [
              "         polarity  ...                                   processed_tweets\n",
              "394862          0  ...                      sick darn fever feel horrible\n",
              "320915          0  ...                          ant keep tweet come quick\n",
              "601012          0  ...                                        amm weather\n",
              "778522          0  ...   malechite oops sorry sounded like drowned kitteh\n",
              "270008          0  ...  begthehobo lol yeah intuos bamboo around 200 l...\n",
              "1184345         1  ...  parkermama dont know yet im hoping sorry bad n...\n",
              "276195          0  ...  weird there site called tweeplein profile name...\n",
              "927213          1  ...  shaundiviney know aye isnt amazing see sonny w...\n",
              "1387617         1  ...                  dazmsmith hee hee nice appreciate\n",
              "818741          1  ...  pinkmango77 cool indeed youll excuse must show...\n",
              "\n",
              "[10 rows x 3 columns]"
            ]
          },
          "metadata": {},
          "execution_count": 25
        }
      ]
    },
    {
      "cell_type": "markdown",
      "source": [
        "## Vectorization and Splitting "
      ],
      "metadata": {
        "id": "YqARyAu8Ad1a"
      }
    },
    {
      "cell_type": "code",
      "source": [
        "X = data['processed_tweets'].values\n",
        "y = data['polarity'].values\n",
        "print(\"listo\")"
      ],
      "metadata": {
        "id": "F_H_S5Xgdkkv",
        "execution": {
          "iopub.status.busy": "2021-12-31T16:38:10.331129Z",
          "iopub.execute_input": "2021-12-31T16:38:10.331466Z",
          "iopub.status.idle": "2021-12-31T16:38:10.336298Z",
          "shell.execute_reply.started": "2021-12-31T16:38:10.331434Z",
          "shell.execute_reply": "2021-12-31T16:38:10.335355Z"
        },
        "trusted": true,
        "colab": {
          "base_uri": "https://localhost:8080/"
        },
        "outputId": "5475624e-c556-4af1-d267-8c5bbc5bec9d"
      },
      "execution_count": 28,
      "outputs": [
        {
          "output_type": "stream",
          "name": "stdout",
          "text": [
            "listo\n"
          ]
        }
      ]
    },
    {
      "cell_type": "code",
      "source": [
        "print(X.shape)\n",
        "print(y.shape)"
      ],
      "metadata": {
        "id": "V7jVqik-dkkv",
        "outputId": "ffc8b8e9-18ff-4fc5-d979-c9ed7c661c55",
        "execution": {
          "iopub.status.busy": "2021-12-31T16:38:12.188389Z",
          "iopub.execute_input": "2021-12-31T16:38:12.188698Z",
          "iopub.status.idle": "2021-12-31T16:38:12.195577Z",
          "shell.execute_reply.started": "2021-12-31T16:38:12.188669Z",
          "shell.execute_reply": "2021-12-31T16:38:12.194547Z"
        },
        "trusted": true,
        "colab": {
          "base_uri": "https://localhost:8080/"
        }
      },
      "execution_count": 29,
      "outputs": [
        {
          "output_type": "stream",
          "name": "stdout",
          "text": [
            "(200000,)\n",
            "(200000,)\n"
          ]
        }
      ]
    },
    {
      "cell_type": "markdown",
      "source": [
        "## Convert text to word frequency vectors."
      ],
      "metadata": {
        "id": "mZM6jsR8_cJ7"
      }
    },
    {
      "cell_type": "markdown",
      "source": [
        "TF-IDF\n",
        "\n",
        "This is an acronym than stands for Term Frequency – Inverse Document Frequency which are the components of the resulting scores assigned to each word.\n",
        "\n",
        "Term Frequency: This summarizes how often a given word appears within a document.\n",
        "\n",
        "Inverse Document Frequency: This downscales words that appear a lot across documents.\n"
      ],
      "metadata": {
        "id": "gKrS7UeoBryl"
      }
    },
    {
      "cell_type": "code",
      "source": [
        "vector = TfidfVectorizer(sublinear_tf=True)\n",
        "X = vector.fit_transform(X)\n",
        "print('Numero de palabras destacadas: ', len(vector.get_feature_names()))"
      ],
      "metadata": {
        "id": "jFJC-pg8dkkw",
        "outputId": "e4339634-16b6-40e8-df73-80fbad10b807",
        "execution": {
          "iopub.status.busy": "2021-12-31T16:38:14.159759Z",
          "iopub.execute_input": "2021-12-31T16:38:14.160087Z",
          "iopub.status.idle": "2021-12-31T16:38:17.09628Z",
          "shell.execute_reply.started": "2021-12-31T16:38:14.160057Z",
          "shell.execute_reply": "2021-12-31T16:38:17.095348Z"
        },
        "trusted": true,
        "colab": {
          "base_uri": "https://localhost:8080/"
        }
      },
      "execution_count": 30,
      "outputs": [
        {
          "output_type": "stream",
          "name": "stdout",
          "text": [
            "Numero de palabras destacadas:  169626\n"
          ]
        }
      ]
    },
    {
      "cell_type": "code",
      "source": [
        "print(X.shape)\n",
        "print(y.shape)"
      ],
      "metadata": {
        "id": "K7OeXCrQdkkw",
        "outputId": "01d31630-db99-47cb-c674-75df436ff71e",
        "execution": {
          "iopub.status.busy": "2021-12-31T16:38:20.053827Z",
          "iopub.execute_input": "2021-12-31T16:38:20.05414Z",
          "iopub.status.idle": "2021-12-31T16:38:20.059335Z",
          "shell.execute_reply.started": "2021-12-31T16:38:20.054111Z",
          "shell.execute_reply": "2021-12-31T16:38:20.058383Z"
        },
        "trusted": true,
        "colab": {
          "base_uri": "https://localhost:8080/"
        }
      },
      "execution_count": 31,
      "outputs": [
        {
          "output_type": "stream",
          "name": "stdout",
          "text": [
            "(200000, 169626)\n",
            "(200000,)\n"
          ]
        }
      ]
    },
    {
      "cell_type": "markdown",
      "source": [
        "## Split train and test"
      ],
      "metadata": {
        "id": "2h8-AkgrBJC0"
      }
    },
    {
      "cell_type": "code",
      "source": [
        "X_train, X_test, y_train, y_test = train_test_split(X, y, test_size = 0.20, random_state=101)\n",
        "print(\"Split realizado\")"
      ],
      "metadata": {
        "id": "RgFgy_iBdkkw",
        "execution": {
          "iopub.status.busy": "2021-12-31T16:38:22.240799Z",
          "iopub.execute_input": "2021-12-31T16:38:22.241118Z",
          "iopub.status.idle": "2021-12-31T16:38:22.270417Z",
          "shell.execute_reply.started": "2021-12-31T16:38:22.241088Z",
          "shell.execute_reply": "2021-12-31T16:38:22.26956Z"
        },
        "trusted": true,
        "colab": {
          "base_uri": "https://localhost:8080/"
        },
        "outputId": "279db4d3-d98e-4ef4-b625-0144b9036edc"
      },
      "execution_count": 32,
      "outputs": [
        {
          "output_type": "stream",
          "name": "stdout",
          "text": [
            "Split realizado\n"
          ]
        }
      ]
    },
    {
      "cell_type": "code",
      "source": [
        "print(\"X_train\", X_train.shape)\n",
        "print(\"y_train\", y_train.shape)\n",
        "print()\n",
        "print(\"X_test\", X_test.shape)\n",
        "print(\"y_test\", y_test.shape)"
      ],
      "metadata": {
        "id": "7h_jfcqedkkw",
        "outputId": "ea2bf684-df26-4c03-8acd-d1523e0c6843",
        "execution": {
          "iopub.status.busy": "2021-12-31T16:38:24.082891Z",
          "iopub.execute_input": "2021-12-31T16:38:24.083204Z",
          "iopub.status.idle": "2021-12-31T16:38:24.089245Z",
          "shell.execute_reply.started": "2021-12-31T16:38:24.083176Z",
          "shell.execute_reply": "2021-12-31T16:38:24.088107Z"
        },
        "trusted": true,
        "colab": {
          "base_uri": "https://localhost:8080/"
        }
      },
      "execution_count": 33,
      "outputs": [
        {
          "output_type": "stream",
          "name": "stdout",
          "text": [
            "X_train (160000, 169626)\n",
            "y_train (160000,)\n",
            "\n",
            "X_test (40000, 169626)\n",
            "y_test (40000,)\n"
          ]
        }
      ]
    },
    {
      "cell_type": "markdown",
      "source": [
        "# Model Building <a id=\"7\"></a>"
      ],
      "metadata": {
        "id": "bk6zPzyxsPa-"
      }
    },
    {
      "cell_type": "markdown",
      "source": [
        "### Model evaluating function"
      ],
      "metadata": {
        "id": "b4hgNd80Gqv_"
      }
    },
    {
      "cell_type": "markdown",
      "source": [
        "#### What is RNN?\n",
        "Recurrent neural networks (RNN) are the state of the art algorithm for sequential data and are used by Apple's Siri and and Google's voice search. It is the first algorithm that remembers its input, due to an internal memory, which makes it perfectly suited for machine learning problems that involve sequential data\n",
        "\n",
        "#### Embedding Layer\n",
        "Embedding layer is one of the available layers in Keras. This is mainly used in Natural Language Processing related applications such as language modeling, but it can also be used with other tasks that involve neural networks. While dealing with NLP problems, we can use pre-trained word embeddings such as GloVe. Alternatively we can also train our own embeddings using Keras embedding layer.\n",
        "\n",
        "#### LSTM layer\n",
        "Long Short Term Memory networks, usually called “LSTMs” , were introduced by Hochreiter and Schmiduber. These have widely been used for speech recognition, language modeling, sentiment analysis and text prediction. Before going deep into LSTM, we should first understand the need of LSTM which can be explained by the drawback of practical use of Recurrent Neural Network (RNN). So, lets start with RNN."
      ],
      "metadata": {
        "id": "6fAJBzpEefLC"
      }
    },
    {
      "cell_type": "code",
      "source": [
        "from keras.models import Sequential\n",
        "from keras.layers import Dense, Embedding, LSTM, Dropout\n",
        "from sklearn.feature_extraction.text import CountVectorizer\n",
        "from keras.preprocessing.text import Tokenizer\n",
        "from keras.preprocessing.sequence import pad_sequences\n",
        "from keras.utils.np_utils import to_categorical\n",
        "import re\n",
        "print(\"Librerias listas\")"
      ],
      "metadata": {
        "id": "z-O59gYEyV7B",
        "execution": {
          "iopub.status.busy": "2021-12-31T16:40:41.474055Z",
          "iopub.execute_input": "2021-12-31T16:40:41.47439Z",
          "iopub.status.idle": "2021-12-31T16:40:41.527625Z",
          "shell.execute_reply.started": "2021-12-31T16:40:41.474352Z",
          "shell.execute_reply": "2021-12-31T16:40:41.526576Z"
        },
        "trusted": true,
        "colab": {
          "base_uri": "https://localhost:8080/"
        },
        "outputId": "0ac3d7eb-21fc-4b00-cf65-7a93c500dcb1"
      },
      "execution_count": 34,
      "outputs": [
        {
          "output_type": "stream",
          "name": "stdout",
          "text": [
            "Librerias listas\n"
          ]
        }
      ]
    },
    {
      "cell_type": "code",
      "source": [
        "import keras\n",
        "keras.__version__"
      ],
      "metadata": {
        "id": "_HpLbl0z-kZg",
        "outputId": "5e3498cd-9153-43dc-b48d-3abb9bbe3205",
        "execution": {
          "iopub.status.busy": "2021-12-31T16:40:44.286186Z",
          "iopub.execute_input": "2021-12-31T16:40:44.286537Z",
          "iopub.status.idle": "2021-12-31T16:40:44.291606Z",
          "shell.execute_reply.started": "2021-12-31T16:40:44.286507Z",
          "shell.execute_reply": "2021-12-31T16:40:44.290544Z"
        },
        "trusted": true,
        "colab": {
          "base_uri": "https://localhost:8080/",
          "height": 36
        }
      },
      "execution_count": 35,
      "outputs": [
        {
          "output_type": "execute_result",
          "data": {
            "application/vnd.google.colaboratory.intrinsic+json": {
              "type": "string"
            },
            "text/plain": [
              "'2.8.0'"
            ]
          },
          "metadata": {},
          "execution_count": 35
        }
      ]
    },
    {
      "cell_type": "code",
      "source": [
        "from keras.preprocessing.text import Tokenizer\n",
        "from keras.preprocessing.sequence import pad_sequences\n",
        "from keras import regularizers\n",
        "\n",
        "max_words = 5000\n",
        "max_len = 200\n",
        "\n",
        "tokenizer = Tokenizer(num_words=max_words)\n",
        "tokenizer.fit_on_texts(data.processed_tweets)\n",
        "sequences = tokenizer.texts_to_sequences(data.processed_tweets)\n",
        "tweets = pad_sequences(sequences, maxlen=max_len)\n",
        "print(tweets)"
      ],
      "metadata": {
        "id": "68irxgj85Duv",
        "outputId": "c83b478b-b717-47af-efd7-ceae33c9ee0e",
        "execution": {
          "iopub.status.busy": "2021-12-31T16:40:47.07372Z",
          "iopub.execute_input": "2021-12-31T16:40:47.074033Z",
          "iopub.status.idle": "2021-12-31T16:40:53.91078Z",
          "shell.execute_reply.started": "2021-12-31T16:40:47.074004Z",
          "shell.execute_reply": "2021-12-31T16:40:53.909863Z"
        },
        "trusted": true,
        "colab": {
          "base_uri": "https://localhost:8080/"
        }
      },
      "execution_count": 36,
      "outputs": [
        {
          "output_type": "stream",
          "name": "stdout",
          "text": [
            "[[   0    0    0 ... 1065   35  667]\n",
            " [   0    0    0 ...   89   47  931]\n",
            " [   0    0    0 ...    0    0  177]\n",
            " ...\n",
            " [   0    0    0 ...    2  451  127]\n",
            " [   0    0    0 ...   68   30 1377]\n",
            " [   0    0    0 ...    0    0  669]]\n"
          ]
        }
      ]
    },
    {
      "cell_type": "code",
      "source": [
        "X_train, X_test, y_train, y_test = train_test_split(tweets, data.polarity.values, test_size=0.2, random_state=202)"
      ],
      "metadata": {
        "id": "GVXtFMC453Hi",
        "execution": {
          "iopub.status.busy": "2021-12-31T16:40:58.192158Z",
          "iopub.execute_input": "2021-12-31T16:40:58.192527Z",
          "iopub.status.idle": "2021-12-31T16:40:58.271366Z",
          "shell.execute_reply.started": "2021-12-31T16:40:58.192496Z",
          "shell.execute_reply": "2021-12-31T16:40:58.270587Z"
        },
        "trusted": true
      },
      "execution_count": 37,
      "outputs": []
    },
    {
      "cell_type": "code",
      "source": [
        "from keras.models import Sequential\n",
        "from keras import layers\n",
        "from keras import regularizers\n",
        "from keras import backend as K\n",
        "from keras.callbacks import ModelCheckpoint\n",
        "model2 = Sequential()\n",
        "model2.add(layers.Embedding(max_words, 128))\n",
        "model2.add(layers.LSTM(64,dropout=0.5))\n",
        "model2.add(layers.Dense(32, activation='relu'))\n",
        "model2.add(layers.Dense(16, activation='relu'))\n",
        "model2.add(layers.Dense(1,activation='sigmoid'))\n",
        "model2.compile(optimizer='adam',loss='binary_crossentropy', metrics=['accuracy'])\n",
        "checkpoint2 = ModelCheckpoint(\"rnn_model.hdf5\", monitor='val_accuracy', verbose=1,save_best_only=True, mode='auto', period=1,save_weights_only=False)\n",
        "history = model2.fit(X_train, y_train, epochs=10,validation_data=(X_test, y_test),callbacks=[checkpoint2])\n"
      ],
      "metadata": {
        "id": "eGpuqkUj5Dxv",
        "outputId": "03e6f307-5380-4b9b-a366-b5c08a798b0d",
        "execution": {
          "iopub.status.busy": "2021-12-31T16:41:00.412783Z",
          "iopub.execute_input": "2021-12-31T16:41:00.413108Z",
          "iopub.status.idle": "2021-12-31T16:54:18.973661Z",
          "shell.execute_reply.started": "2021-12-31T16:41:00.413079Z",
          "shell.execute_reply": "2021-12-31T16:54:18.972672Z"
        },
        "trusted": true,
        "colab": {
          "base_uri": "https://localhost:8080/"
        }
      },
      "execution_count": null,
      "outputs": [
        {
          "output_type": "stream",
          "name": "stdout",
          "text": [
            "WARNING:tensorflow:`period` argument is deprecated. Please use `save_freq` to specify the frequency in number of batches seen.\n",
            "Epoch 1/10\n",
            "4998/5000 [============================>.] - ETA: 0s - loss: 0.5071 - accuracy: 0.7493\n",
            "Epoch 1: val_accuracy improved from -inf to 0.76775, saving model to rnn_model.hdf5\n",
            "5000/5000 [==============================] - 74s 14ms/step - loss: 0.5071 - accuracy: 0.7494 - val_loss: 0.4792 - val_accuracy: 0.7678\n",
            "Epoch 2/10\n",
            "5000/5000 [==============================] - ETA: 0s - loss: 0.4679 - accuracy: 0.7757\n",
            "Epoch 2: val_accuracy improved from 0.76775 to 0.77450, saving model to rnn_model.hdf5\n",
            "5000/5000 [==============================] - 60s 12ms/step - loss: 0.4679 - accuracy: 0.7757 - val_loss: 0.4729 - val_accuracy: 0.7745\n",
            "Epoch 3/10\n",
            "2654/5000 [==============>...............] - ETA: 24s - loss: 0.4505 - accuracy: 0.7846"
          ]
        }
      ]
    },
    {
      "cell_type": "code",
      "source": [
        "sequence = tokenizer.texts_to_sequences(['good'])\n",
        "test = pad_sequences(sequence, maxlen=max_len)\n",
        "pred = model2.predict(test)\n",
        "if pred > 0.5:\n",
        "  print('Comentario positivo con unporcentaje de : %', pred[0][0])\n",
        "else:\n",
        "  print('Comentario negativo con unporcentaje de : %', pred[0][0])\n",
        "# print(pred)"
      ],
      "metadata": {
        "id": "NjU0Kf7idfJf",
        "execution": {
          "iopub.status.busy": "2021-12-31T16:55:02.116704Z",
          "iopub.execute_input": "2021-12-31T16:55:02.117119Z",
          "iopub.status.idle": "2021-12-31T16:55:02.493682Z",
          "shell.execute_reply.started": "2021-12-31T16:55:02.11707Z",
          "shell.execute_reply": "2021-12-31T16:55:02.492778Z"
        },
        "trusted": true
      },
      "execution_count": null,
      "outputs": []
    },
    {
      "cell_type": "code",
      "source": [
        "model = keras.models.load_model('/content/drive/MyDrive/dataset/rnn_model(1).hdf5')\n",
        "sequence = tokenizer.texts_to_sequences(['his is the worst service i have ever tried'])\n",
        "test = pad_sequences(sequence, maxlen=max_len)\n",
        "pred = model.predict(test)\n",
        "if pred > 0.5:\n",
        "  print('Comentario positivo con un porcentaje de : %', pred[0][0])\n",
        "  print(0)\n",
        "else:\n",
        "  print('Comentario negativo con un porcentaje de : %', pred[0][0])\n",
        "  print(1)\n",
        "# print(pred)"
      ],
      "metadata": {
        "id": "HJXJWC53PGEp",
        "execution": {
          "iopub.status.busy": "2021-12-31T16:55:15.157065Z",
          "iopub.execute_input": "2021-12-31T16:55:15.157392Z",
          "iopub.status.idle": "2021-12-31T16:55:16.074213Z",
          "shell.execute_reply.started": "2021-12-31T16:55:15.157355Z",
          "shell.execute_reply": "2021-12-31T16:55:16.073359Z"
        },
        "trusted": true
      },
      "execution_count": null,
      "outputs": []
    },
    {
      "cell_type": "code",
      "source": [
        "sequence = tokenizer.texts_to_sequences(['I had a bad day at work.'])\n",
        "test = pad_sequences(sequence, maxlen=max_len)\n",
        "pred = model.predict(test)\n",
        "if pred > 0.5:\n",
        "  print('Positive')\n",
        "else:\n",
        "  print('Negative')"
      ],
      "metadata": {
        "id": "_Bw4rZQjTWEw",
        "execution": {
          "iopub.status.busy": "2021-12-31T16:55:32.672865Z",
          "iopub.execute_input": "2021-12-31T16:55:32.673172Z",
          "iopub.status.idle": "2021-12-31T16:55:32.73224Z",
          "shell.execute_reply.started": "2021-12-31T16:55:32.673143Z",
          "shell.execute_reply": "2021-12-31T16:55:32.731225Z"
        },
        "trusted": true
      },
      "execution_count": null,
      "outputs": []
    }
  ]
}